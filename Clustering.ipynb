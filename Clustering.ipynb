{
  "nbformat": 4,
  "nbformat_minor": 0,
  "metadata": {
    "colab": {
      "name": "Clustering.ipynb",
      "provenance": [],
      "collapsed_sections": [],
      "authorship_tag": "ABX9TyNJYW5/SnNaCsA8eJ4hz3iD",
      "include_colab_link": true
    },
    "kernelspec": {
      "name": "python3",
      "display_name": "Python 3"
    }
  },
  "cells": [
    {
      "cell_type": "markdown",
      "metadata": {
        "id": "view-in-github",
        "colab_type": "text"
      },
      "source": [
        "<a href=\"https://colab.research.google.com/github/Mrdecent08/Machine-Learning/blob/main/Clustering.ipynb\" target=\"_parent\"><img src=\"https://colab.research.google.com/assets/colab-badge.svg\" alt=\"Open In Colab\"/></a>"
      ]
    },
    {
      "cell_type": "code",
      "metadata": {
        "id": "VlFj5EBIaGJw"
      },
      "source": [
        "# loading liabraries\r\n",
        "import numpy as np\r\n",
        "import pandas as pd\r\n",
        "import matplotlib.pyplot as plt\r\n",
        "import sklearn"
      ],
      "execution_count": null,
      "outputs": []
    },
    {
      "cell_type": "code",
      "metadata": {
        "id": "i7z4Qy1PaZ75"
      },
      "source": [
        "# loading data\r\n",
        "df = pd.DataFrame({ 'x' : [3,4,1,6,5,5,6,2,7,9,10,13,25,76,35,85,82] ,\r\n",
        "                    'y' : [1,3,5,5,1,6,3,7,8,3,8,4,8,4,8,4,8]})\r\n",
        "data = df"
      ],
      "execution_count": null,
      "outputs": []
    },
    {
      "cell_type": "code",
      "metadata": {
        "colab": {
          "base_uri": "https://localhost:8080/"
        },
        "id": "0eLz6S3Va_Sv",
        "outputId": "190135d0-38b0-4289-e109-e394a231ba84"
      },
      "source": [
        "# preparing a model\r\n",
        "from sklearn.cluster import KMeans\r\n",
        "km = KMeans(n_clusters=3)\r\n",
        "km.fit(data) "
      ],
      "execution_count": null,
      "outputs": [
        {
          "output_type": "execute_result",
          "data": {
            "text/plain": [
              "KMeans(algorithm='auto', copy_x=True, init='k-means++', max_iter=300,\n",
              "       n_clusters=3, n_init=10, n_jobs=None, precompute_distances='auto',\n",
              "       random_state=None, tol=0.0001, verbose=0)"
            ]
          },
          "metadata": {
            "tags": []
          },
          "execution_count": 9
        }
      ]
    },
    {
      "cell_type": "code",
      "metadata": {
        "colab": {
          "base_uri": "https://localhost:8080/"
        },
        "id": "Hhyk0CRQbP0q",
        "outputId": "09043b76-5808-427e-bfa2-b1cd42e8ccad"
      },
      "source": [
        "km.cluster_centers_                     #center of clusters\r\n",
        "km.labels_                              # labels of clusters"
      ],
      "execution_count": null,
      "outputs": [
        {
          "output_type": "execute_result",
          "data": {
            "text/plain": [
              "array([1, 1, 1, 1, 1, 1, 1, 1, 1, 1, 1, 1, 2, 0, 2, 0, 0], dtype=int32)"
            ]
          },
          "metadata": {
            "tags": []
          },
          "execution_count": 12
        }
      ]
    },
    {
      "cell_type": "code",
      "metadata": {
        "id": "fE1Eyp8kcWWo"
      },
      "source": [
        "# Adding labels column to the dataframe\r\n",
        "df ['cluster_column'] = km.labels_\r\n",
        "df"
      ],
      "execution_count": null,
      "outputs": []
    },
    {
      "cell_type": "code",
      "metadata": {
        "colab": {
          "base_uri": "https://localhost:8080/",
          "height": 282
        },
        "id": "zzRxrs2Vcza2",
        "outputId": "db5e6ca5-6c57-472e-a634-df664e07686f"
      },
      "source": [
        "# visualization of clustring\r\n",
        "plt.scatter(df['x'] , df['y'] , 50 , labels)\r\n",
        "plt.show"
      ],
      "execution_count": null,
      "outputs": [
        {
          "output_type": "execute_result",
          "data": {
            "text/plain": [
              "<function matplotlib.pyplot.show>"
            ]
          },
          "metadata": {
            "tags": []
          },
          "execution_count": 29
        },
        {
          "output_type": "display_data",
          "data": {
            "image/png": "[encoded data removed]",
            "text/plain": [
              "<Figure size 432x288 with 1 Axes>"
            ]
          },
          "metadata": {
            "tags": [],
            "needs_background": "light"
          }
        }
      ]
    },
    {
      "cell_type": "code",
      "metadata": {
        "colab": {
          "base_uri": "https://localhost:8080/",
          "height": 282
        },
        "id": "zSteE4Wgdcs-",
        "outputId": "71083e1f-cd48-4cfa-f82b-852ddb270f98"
      },
      "source": [
        "# adding centers of each cluster to the plot diagram\r\n",
        "plt.scatter(df['x'] , df['y'] , 50 , labels)\r\n",
        "for i in km.cluster_centers_:\r\n",
        "  plt.scatter(i[0],i[1],marker = '*')\r\n",
        "plt.show"
      ],
      "execution_count": null,
      "outputs": [
        {
          "output_type": "execute_result",
          "data": {
            "text/plain": [
              "<function matplotlib.pyplot.show>"
            ]
          },
          "metadata": {
            "tags": []
          },
          "execution_count": 31
        },
        {
          "output_type": "display_data",
          "data": {
            "image/png": "[encoded data removed]",
            "text/plain": [
              "<Figure size 432x288 with 1 Axes>"
            ]
          },
          "metadata": {
            "tags": [],
            "needs_background": "light"
          }
        }
      ]
    }
  ]
}