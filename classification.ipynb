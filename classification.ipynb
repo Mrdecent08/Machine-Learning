{
  "nbformat": 4,
  "nbformat_minor": 0,
  "metadata": {
    "colab": {
      "name": "classification",
      "provenance": [],
      "collapsed_sections": [],
      "authorship_tag": "ABX9TyMSP2JkYxMfabAzG6uqOmI7",
      "include_colab_link": true
    },
    "kernelspec": {
      "name": "python3",
      "display_name": "Python 3"
    }
  },
  "cells": [
    {
      "cell_type": "markdown",
      "metadata": {
        "id": "view-in-github",
        "colab_type": "text"
      },
      "source": [
        "<a href=\"https://colab.research.google.com/github/Mrdecent08/Machine-Learning/blob/main/classification.ipynb\" target=\"_parent\"><img src=\"https://colab.research.google.com/assets/colab-badge.svg\" alt=\"Open In Colab\"/></a>"
      ]
    },
    {
      "cell_type": "code",
      "metadata": {
        "id": "BL1jJBpik5lI"
      },
      "source": [
        "#import libraries\r\n",
        "import numpy as np\r\n",
        "import pandas as pd\r\n",
        "import matplotlib as plt\r\n",
        "import sklearn"
      ],
      "execution_count": null,
      "outputs": []
    },
    {
      "cell_type": "code",
      "metadata": {
        "id": "4lkGw8oAludG"
      },
      "source": [
        "#importing dataset \r\n",
        "from sklearn.datasets import load_digits\r\n",
        "digits = load_digits()"
      ],
      "execution_count": null,
      "outputs": []
    },
    {
      "cell_type": "code",
      "metadata": {
        "id": "kpEhNXbvmEC_"
      },
      "source": [
        "df = pd.DataFrame(digits.data)\r\n"
      ],
      "execution_count": null,
      "outputs": []
    },
    {
      "cell_type": "code",
      "metadata": {
        "id": "tpeJ54ztmsab"
      },
      "source": [
        "X = digits.data #independent varible\r\n",
        "Y = digits.target #dependent variable"
      ],
      "execution_count": null,
      "outputs": []
    },
    {
      "cell_type": "code",
      "metadata": {
        "id": "PM5eSrMaovm9"
      },
      "source": [
        "#splitting of data\r\n",
        "from sklearn.model_selection import train_test_split\r\n",
        "X_train ,X_test ,Y_train,Y_test = train_test_split(X,Y,test_size = 0.25 , random_state = 1)"
      ],
      "execution_count": null,
      "outputs": []
    },
    {
      "cell_type": "code",
      "metadata": {
        "id": "BeiAyy_ioZrl"
      },
      "source": [
        "# standardising or scaling of data \r\n",
        "from sklearn.preprocessing import StandardScaler\r\n",
        "sc = StandardScaler()\r\n",
        "#scaling\r\n",
        "X_train = sc.fit_transform(X_train) #for training both fit and transform has to be performed\r\n",
        "X_test = sc.transform(X_test) # for test data only transform is enough"
      ],
      "execution_count": null,
      "outputs": []
    },
    {
      "cell_type": "code",
      "metadata": {
        "id": "7p6wuSizouON"
      },
      "source": [
        "# making a model\r\n",
        "from sklearn.linear_model import LogisticRegression\r\n",
        "model = LogisticRegression()\r\n",
        "model.fit(X_train , Y_train)"
      ],
      "execution_count": null,
      "outputs": []
    },
    {
      "cell_type": "code",
      "metadata": {
        "id": "mqSMOsINqFmF"
      },
      "source": [
        "#predicting the values\r\n",
        "Y_test_pred = model.predict(X_test)\r\n",
        "Y_test_pred"
      ],
      "execution_count": null,
      "outputs": []
    },
    {
      "cell_type": "code",
      "metadata": {
        "id": "BXxYv1MOqchd"
      },
      "source": [
        "#saving the model\r\n",
        "import joblib\r\n",
        "file = \"digits_model.sav\"\r\n",
        "joblib.dump(model,file)"
      ],
      "execution_count": null,
      "outputs": []
    },
    {
      "cell_type": "code",
      "metadata": {
        "id": "uGTRxFehrXW4"
      },
      "source": [
        "#confusion matrix\r\n",
        "from sklearn.metrics import confusion_matrix\r\n",
        "cm = confusion_matrix(Y_test,Y_test_pred)"
      ],
      "execution_count": null,
      "outputs": []
    },
    {
      "cell_type": "code",
      "metadata": {
        "id": "tq5pblG9ruDL"
      },
      "source": [
        "#visualation\r\n",
        "import matplotlib.pyplot as plt\r\n",
        "plt.scatter(Y_test,Y_test_pred)"
      ],
      "execution_count": null,
      "outputs": []
    },
    {
      "cell_type": "code",
      "metadata": {
        "colab": {
          "base_uri": "https://localhost:8080/"
        },
        "id": "db1gMlbasPp8",
        "outputId": "dbe62b0e-7752-4087-e7e3-69fc6975ea99"
      },
      "source": [
        "#knowing the accuracy\r\n",
        "from sklearn.metrics import accuracy_score\r\n",
        "accuracy_score(Y_test,Y_test_pred)"
      ],
      "execution_count": null,
      "outputs": [
        {
          "output_type": "execute_result",
          "data": {
            "text/plain": [
              "0.9822222222222222"
            ]
          },
          "metadata": {
            "tags": []
          },
          "execution_count": 29
        }
      ]
    }
  ]
}